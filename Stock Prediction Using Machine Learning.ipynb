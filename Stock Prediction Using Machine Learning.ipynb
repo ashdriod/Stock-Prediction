{
 "cells": [
  {
   "cell_type": "code",
   "execution_count": 22,
   "metadata": {},
   "outputs": [
    {
     "name": "stdout",
     "output_type": "stream",
     "text": [
      "Import  Sucess !!\n"
     ]
    }
   ],
   "source": [
    "#importing the Required libraries\n",
    "\n",
    "import numpy as np\n",
    "import matplotlib.pyplot as plt\n",
    "from matplotlib import style\n",
    "from sklearn.linear_model import LinearRegression\n",
    "import quandl\n",
    "import datetime\n",
    "\n",
    "print(\"Import  Sucess !!\")"
   ]
  },
  {
   "cell_type": "code",
   "execution_count": 23,
   "metadata": {},
   "outputs": [],
   "source": [
    "# for Customizing plots \n",
    "style.use('seaborn-dark-palette')"
   ]
  },
  {
   "cell_type": "code",
   "execution_count": 24,
   "metadata": {},
   "outputs": [],
   "source": [
    "#for setting up date\n",
    "start_date = datetime.date(2018,1,3)\n",
    "end_date = datetime.date.today\n"
   ]
  },
  {
   "cell_type": "code",
   "execution_count": 25,
   "metadata": {},
   "outputs": [
    {
     "name": "stdout",
     "output_type": "stream",
     "text": [
      "API permission granted\n"
     ]
    }
   ],
   "source": [
    "#getting API permission\n",
    "\n",
    "quandl.ApiConfig.api_key = \"Em7jPRE8yb3qGUzPbp_3\"\n",
    "print(\"API permission granted\")"
   ]
  },
  {
   "cell_type": "code",
   "execution_count": 26,
   "metadata": {},
   "outputs": [
    {
     "name": "stdout",
     "output_type": "stream",
     "text": [
      "Data Imported Sucessfully\n"
     ]
    }
   ],
   "source": [
    "#Get Price and Date Data (data frame)  From Quandl\n",
    "df = quandl.get('WIKI/GOOGL', start_date=start_date, end_date=end_date, collapse=\"daily\")\n",
    "df = df.reset_index()\n",
    "prices = df['Close'].tolist()\n",
    "dates = df.index.tolist()\n",
    "print(\"Data Imported Sucessfully\")"
   ]
  },
  {
   "cell_type": "code",
   "execution_count": 27,
   "metadata": {},
   "outputs": [
    {
     "name": "stdout",
     "output_type": "stream",
     "text": [
      "Converstion To One Dimenstional Array is done\n"
     ]
    }
   ],
   "source": [
    "#Convert to 1 dimentional  Vector\n",
    "dates = np.reshape(dates, (len(dates), 1))\n",
    "prices = np.reshape(prices, (len(prices), 1))\n",
    "print(\"Converstion To One Dimenstional Array is done\")"
   ]
  },
  {
   "cell_type": "code",
   "execution_count": 28,
   "metadata": {},
   "outputs": [
    {
     "data": {
      "text/plain": [
       "LinearRegression(copy_X=True, fit_intercept=True, n_jobs=None, normalize=False)"
      ]
     },
     "execution_count": 28,
     "metadata": {},
     "output_type": "execute_result"
    }
   ],
   "source": [
    "# linear regresion for simple feature.\n",
    "regressor = LinearRegression()\n",
    "regressor.fit(dates, prices)"
   ]
  },
  {
   "cell_type": "code",
   "execution_count": 29,
   "metadata": {},
   "outputs": [
    {
     "data": {
      "image/png": "[encoded data removed]",
      "text/plain": [
       "<Figure size 432x288 with 1 Axes>"
      ]
     },
     "metadata": {
      "needs_background": "light"
     },
     "output_type": "display_data"
    }
   ],
   "source": [
    "#Visualize Resultsc on screen\n",
    "plt.scatter(dates, prices, color='yellow', label= 'Actual Price') #plotting the initial datapoints\n",
    "plt.plot(dates, regressor.predict(dates), color='red', linewidth=3, label = 'Predicted Price') #plotting the line made by linear regression\n",
    "plt.title('Linear Regression for Google | Time vs. Price')\n",
    "plt.legend()\n",
    "plt.xlabel('Date Integer')\n",
    "plt.show()\n",
    " "
   ]
  },
  {
   "cell_type": "code",
   "execution_count": 30,
   "metadata": {},
   "outputs": [
    {
     "name": "stdout",
     "output_type": "stream",
     "text": [
      "The Stock Price is Predicted for the date-- [[26]]\n"
     ]
    }
   ],
   "source": [
    "#Predict Price on Given Date\n",
    "date = [[26]]\n",
    "predicted_price =regressor.predict(date)\n",
    "print(\"The Stock Price is Predicted for the date--\",date)"
   ]
  },
  {
   "cell_type": "code",
   "execution_count": 31,
   "metadata": {},
   "outputs": [
    {
     "name": "stdout",
     "output_type": "stream",
     "text": [
      "The stock open price is: $ 1114.5752164016121\n",
      "The regression coefficient is  -0.8102934571964686\n",
      "the relationship equation between dates and prices is: price =  1135.6428462887202\n"
     ]
    }
   ],
   "source": [
    "print (\"The stock open price is: $\",predicted_price[0][0])\n",
    "print (\"The regression coefficient is \",regressor.coef_[0][0])\n",
    "print (\"the relationship equation between dates and prices is: price = \",regressor.intercept_[0])"
   ]
  },
  {
   "cell_type": "code",
   "execution_count": null,
   "metadata": {},
   "outputs": [],
   "source": []
  }
 ],
 "metadata": {
  "kernelspec": {
   "display_name": "Python 3",
   "language": "python",
   "name": "python3"
  },
  "language_info": {
   "codemirror_mode": {
    "name": "ipython",
    "version": 3
   },
   "file_extension": ".py",
   "mimetype": "text/x-python",
   "name": "python",
   "nbconvert_exporter": "python",
   "pygments_lexer": "ipython3",
   "version": "3.7.3"
  }
 },
 "nbformat": 4,
 "nbformat_minor": 2
}
